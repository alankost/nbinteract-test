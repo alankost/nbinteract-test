{
 "cells": [
  {
   "cell_type": "code",
   "execution_count": 1,
   "metadata": {},
   "outputs": [
    {
     "data": {
      "text/html": [
       "\n",
       "<script>\n",
       "  function code_toggle() {\n",
       "    if (code_shown){\n",
       "      $('div.input').hide('500');\n",
       "      $('#toggleButton').val('Show Code')\n",
       "    } else {\n",
       "      $('div.input').show('500');\n",
       "      $('#toggleButton').val('Hide Code')\n",
       "    }\n",
       "    code_shown = !code_shown\n",
       "  }\n",
       "\n",
       "  $( document ).ready(function(){\n",
       "    code_shown=false;\n",
       "    $('div.input').hide()\n",
       "  });\n",
       "</script>\n",
       "<form action=\"javascript:code_toggle()\"><input type=\"submit\" id=\"toggleButton\" value=\"Show Code\"></form>\n",
       "."
      ],
      "text/plain": [
       "<IPython.core.display.HTML object>"
      ]
     },
     "execution_count": 1,
     "metadata": {},
     "output_type": "execute_result"
    }
   ],
   "source": [
    "from IPython.display import HTML\n",
    "HTML('''\n",
    "<script>\n",
    "  function code_toggle() {\n",
    "    if (code_shown){\n",
    "      $('div.input').hide('500');\n",
    "      $('#toggleButton').val('Show Code')\n",
    "    } else {\n",
    "      $('div.input').show('500');\n",
    "      $('#toggleButton').val('Hide Code')\n",
    "    }\n",
    "    code_shown = !code_shown\n",
    "  }\n",
    "\n",
    "  $( document ).ready(function(){\n",
    "    code_shown=false;\n",
    "    $('div.input').hide()\n",
    "  });\n",
    "</script>\n",
    "<form action=\"javascript:code_toggle()\"><input type=\"submit\" id=\"toggleButton\" value=\"Show Code\"></form>\n",
    ".''')"
   ]
  },
  {
   "cell_type": "markdown",
   "metadata": {},
   "source": [
    "# What is light?"
   ]
  },
  {
   "cell_type": "markdown",
   "metadata": {},
   "source": [
    "A baseball is a particle and the thing that surfers look for in the ocean is a wave. In addition to giving examples, scientists like to to describe the properties of an object that make it a particle or a wave. When we do this, it turns out that many things, like light, act like both a paricle and a wave."
   ]
  },
  {
   "cell_type": "markdown",
   "metadata": {},
   "source": [
    "## Light Acts Like a Particle"
   ]
  },
  {
   "cell_type": "markdown",
   "metadata": {},
   "source": [
    "When scientists says that light acts like a particle, they mean that when we detect the light it arrives at the detector in chunks we call photons. This is pictured in the anmiation below where photons are created in an emitter (an example would be a light bulb) and then travel to a photodetector that registers them when they arrive."
   ]
  },
  {
   "cell_type": "code",
   "execution_count": 2,
   "metadata": {},
   "outputs": [
    {
     "data": {
      "text/html": [
       "\n",
       "<svg xmlns=\"http://www.w3.org/2000/svg\" width=\"1000\" height=\"100\">\n",
       "\n",
       "<rect x=\"0\" y=\"0\" width=\"150\" height=\"100\" stroke=\"black\" fill=blue stroke-width=\"1\" />\n",
       "<rect x=\"150\" y=\"0\" width=\"600\" height=\"100\" stroke=\"black\" stroke-width=\"1\" />\n",
       "<rect x=\"750\" y=\"0\" width=\"150\" height=\"100\" stroke=\"black\" fill=blue stroke-width=\"1\" />\n",
       "  <text x=\"30\" y=\"30\" style=\"font-family: Arial;\n",
       "            font-size: 20; fill: white;\"> Emitter\n",
       "  </text>\n",
       "  <text x=\"760\" y=\"30\" style=\"font-family: Arial;\n",
       "            font-size: 20; fill: white;\"> Photodetector\n",
       "  </text>\n",
       "    <circle cx=\"-15\" cy=\"50\" r=\"15\" fill=\"orange\" stroke=\"black\" stroke-width=\"1\">\n",
       "        <animate attributeName=\"cx\" from=\"50\" to=\"815\" dur=\"5s\" repeatCount=\"indefinite\" />\n",
       "        </circle>\n",
       "    <circle cx=\"-15\" cy=\"50\" r=\"15\" fill=\"Green\" stroke=\"black\" stroke-width=\"1\">\n",
       "        <animate attributeName=\"cx\" from=\"50\" to=\"815\" begin=\"1s\" dur=\"5s\" repeatCount=\"indefinite\" />\n",
       "        </circle>\n",
       "    <circle cx=\"-15\" cy=\"50\" r=\"15\" fill=\"orange\" stroke=\"black\" stroke-width=\"1\">\n",
       "        <animate attributeName=\"cx\" from=\"50\" to=\"815\" begin=\"2s\" dur=\"5s\" repeatCount=\"indefinite\" />\n",
       "        </circle>\n",
       "    <circle cx=\"-15\" cy=\"50\" r=\"15\" fill=\"orange\" stroke=\"black\" stroke-width=\"1\">\n",
       "        <animate attributeName=\"cx\" from=\"50\" to=\"815\" begin=\"3s\" dur=\"5s\" repeatCount=\"indefinite\" />\n",
       "        </circle>\n",
       "    <circle cx=\"-15\" cy=\"50\" r=\"15\" fill=\"orange\" stroke=\"black\" stroke-width=\"1\">\n",
       "        <animate attributeName=\"cx\" from=\"50\" to=\"815\" begin=\"4s\" dur=\"5s\" repeatCount=\"indefinite\" />\n",
       "        </circle>\n",
       "</svg>\n"
      ],
      "text/plain": [
       "<IPython.core.display.HTML object>"
      ]
     },
     "execution_count": 2,
     "metadata": {},
     "output_type": "execute_result"
    }
   ],
   "source": [
    "from IPython.display import HTML\n",
    "HTML (\"\"\"\n",
    "<svg xmlns=\"http://www.w3.org/2000/svg\" width=\"1000\" height=\"100\">\n",
    "\n",
    "<rect x=\"0\" y=\"0\" width=\"150\" height=\"100\" stroke=\"black\" fill=blue stroke-width=\"1\" />\n",
    "<rect x=\"150\" y=\"0\" width=\"600\" height=\"100\" stroke=\"black\" stroke-width=\"1\" />\n",
    "<rect x=\"750\" y=\"0\" width=\"150\" height=\"100\" stroke=\"black\" fill=blue stroke-width=\"1\" />\n",
    "  <text x=\"30\" y=\"30\" style=\"font-family: Arial;\n",
    "            font-size: 20; fill: white;\"> Emitter\n",
    "  </text>\n",
    "  <text x=\"760\" y=\"30\" style=\"font-family: Arial;\n",
    "            font-size: 20; fill: white;\"> Photodetector\n",
    "  </text>\n",
    "    <circle cx=\"-15\" cy=\"50\" r=\"15\" fill=\"orange\" stroke=\"black\" stroke-width=\"1\">\n",
    "        <animate attributeName=\"cx\" from=\"50\" to=\"815\" dur=\"5s\" repeatCount=\"indefinite\" />\n",
    "        </circle>\n",
    "    <circle cx=\"-15\" cy=\"50\" r=\"15\" fill=\"Green\" stroke=\"black\" stroke-width=\"1\">\n",
    "        <animate attributeName=\"cx\" from=\"50\" to=\"815\" begin=\"1s\" dur=\"5s\" repeatCount=\"indefinite\" />\n",
    "        </circle>\n",
    "    <circle cx=\"-15\" cy=\"50\" r=\"15\" fill=\"orange\" stroke=\"black\" stroke-width=\"1\">\n",
    "        <animate attributeName=\"cx\" from=\"50\" to=\"815\" begin=\"2s\" dur=\"5s\" repeatCount=\"indefinite\" />\n",
    "        </circle>\n",
    "    <circle cx=\"-15\" cy=\"50\" r=\"15\" fill=\"orange\" stroke=\"black\" stroke-width=\"1\">\n",
    "        <animate attributeName=\"cx\" from=\"50\" to=\"815\" begin=\"3s\" dur=\"5s\" repeatCount=\"indefinite\" />\n",
    "        </circle>\n",
    "    <circle cx=\"-15\" cy=\"50\" r=\"15\" fill=\"orange\" stroke=\"black\" stroke-width=\"1\">\n",
    "        <animate attributeName=\"cx\" from=\"50\" to=\"815\" begin=\"4s\" dur=\"5s\" repeatCount=\"indefinite\" />\n",
    "        </circle>\n",
    "</svg>\n",
    "\"\"\")"
   ]
  },
  {
   "cell_type": "markdown",
   "metadata": {},
   "source": [
    "## Light Acts Like a Wave"
   ]
  },
  {
   "cell_type": "markdown",
   "metadata": {},
   "source": [
    "When scientists say that light acts like a wave, they mean that in certain circumstances light exhibits an bevaior called \"interference\". Before we talk about intereference, lets see some waves and the mathematical functions that we use to describe them. The photo below is of surfers on a water wave at Peahi on Maui island in Hawaii. The photograph was taken by Jeff Rowley."
   ]
  },
  {
   "cell_type": "code",
   "execution_count": 3,
   "metadata": {},
   "outputs": [
    {
     "data": {
      "text/html": [
       "<img src=\"http://i.imgur.com/U7AqICO.jpg\" width=\"600\" height=\"600\"/>"
      ],
      "text/plain": [
       "<IPython.core.display.Image object>"
      ]
     },
     "execution_count": 3,
     "metadata": {},
     "output_type": "execute_result"
    }
   ],
   "source": [
    "from IPython.display import Image\n",
    "from IPython.core.display import HTML \n",
    "Image(url= \"http://i.imgur.com/U7AqICO.jpg\", width=600, height=600)"
   ]
  },
  {
   "cell_type": "markdown",
   "metadata": {},
   "source": [
    "Looking at the wave photo, we see a similarity between a particle like a baseball and a wave - they both move from place to place with a speed and direction. Water waves are larger and more spread out than most things we call particles. Although not waves are not always bigger than particles, unlike particles they do have a tendency to spread out."
   ]
  },
  {
   "cell_type": "markdown",
   "metadata": {},
   "source": [
    "### Simple Waves"
   ]
  },
  {
   "cell_type": "markdown",
   "metadata": {},
   "source": [
    "In the photo below we see a larger portion of a wave. Notice how the height of the water goes up; and down as we move along the wave."
   ]
  },
  {
   "cell_type": "code",
   "execution_count": 4,
   "metadata": {},
   "outputs": [
    {
     "data": {
      "text/html": [
       "<img src=\"http://i.imgur.com/NBph4Ha.jpg\" width=\"600\" height=\"600\"/>"
      ],
      "text/plain": [
       "<IPython.core.display.Image object>"
      ]
     },
     "execution_count": 4,
     "metadata": {},
     "output_type": "execute_result"
    }
   ],
   "source": [
    "from IPython.display import Image\n",
    "from IPython.core.display import HTML \n",
    "Image(url= \"http://i.imgur.com/NBph4Ha.jpg\", width=600, height=600)"
   ]
  },
  {
   "cell_type": "markdown",
   "metadata": {},
   "source": [
    "Scientists call something a simple wave if we can describe it using a simple trigonetric function. For example, a water wave is a simple wave if the heigt of the water at a given time is given by the expression;\n",
    "\n",
    "$${\\rm{Water}}\\;{\\rm{Height}} = A\\sin \\left( {2\\pi \\left( {\\frac{x}{\\lambda } - \\nu t} \\right) + \\phi } \\right)$$\n",
    "\n",
    "where A is the maximum height of the wave, x is the position along the wave, $\\lambda$ is the distance between wave peaks, t is time, $\\nu$ is called the wave frequency and is the number of times per second the wave goes up and down at one position in the wave, and $\\phi$ - called the phase adjusts the wave height so that it has the correct value at a given position and time. We will explore this function using the programming capabilities of the Jupyter Notebook. Let's get started with some simple examples of doing math with the Notebook."
   ]
  },
  {
   "cell_type": "code",
   "execution_count": 5,
   "metadata": {},
   "outputs": [
    {
     "data": {
      "text/plain": [
       "5.0"
      ]
     },
     "execution_count": 5,
     "metadata": {},
     "output_type": "execute_result"
    }
   ],
   "source": [
    "# Addition, Subtration, Multiplication, and Division\n",
    "2+2*6/4"
   ]
  },
  {
   "cell_type": "code",
   "execution_count": 6,
   "metadata": {},
   "outputs": [
    {
     "data": {
      "text/plain": [
       "(9, 1.4142135623730951)"
      ]
     },
     "execution_count": 6,
     "metadata": {},
     "output_type": "execute_result"
    }
   ],
   "source": [
    "# Rasing a number to a power\n",
    "3**2, 2**0.5"
   ]
  },
  {
   "cell_type": "code",
   "execution_count": 7,
   "metadata": {},
   "outputs": [
    {
     "name": "stdout",
     "output_type": "stream",
     "text": [
      "two plus two = 4\n",
      "The answer is 4\n"
     ]
    }
   ],
   "source": [
    "# Including text in an answer\n",
    "print (\"two plus two =\", 2+2)\n",
    "x=2+2\n",
    "print (\"The answer is\", x)\n"
   ]
  },
  {
   "cell_type": "code",
   "execution_count": 8,
   "metadata": {
    "hide_input": true
   },
   "outputs": [
    {
     "data": {
      "image/png": "[encoded data removed]",
      "text/plain": [
       "<Figure size 432x288 with 1 Axes>"
      ]
     },
     "metadata": {
      "needs_background": "light"
     },
     "output_type": "display_data"
    }
   ],
   "source": [
    "# A simple function plot\n",
    "%matplotlib inline\n",
    "from numpy import *\n",
    "import matplotlib.pyplot as plt\n",
    "x = linspace(0, 10)\n",
    "y=x**2+2*x+7\n",
    "plt.plot(x,y)\n",
    "plt.show()"
   ]
  },
  {
   "cell_type": "markdown",
   "metadata": {},
   "source": [
    "Now lets explore a simple wave using a plot that has interactive sliders to let us control the wave properties. This code also shows you how to control "
   ]
  },
  {
   "cell_type": "code",
   "execution_count": 9,
   "metadata": {},
   "outputs": [
    {
     "data": {
      "application/vnd.jupyter.widget-view+json": {
       "model_id": "812477ca23cb463f8da7f514d05cc709",
       "version_major": 2,
       "version_minor": 0
      },
      "text/plain": [
       "interactive(children=(FloatSlider(value=5.0, description='A', max=20.0, min=1.0, step=1.0), FloatSlider(value=…"
      ]
     },
     "metadata": {},
     "output_type": "display_data"
    }
   ],
   "source": [
    "%matplotlib inline\n",
    "from numpy import *\n",
    "import matplotlib.pyplot as plt\n",
    "from ipywidgets import interact, FloatSlider, ToggleButtons\n",
    "plt.rcParams.update({'font.size': 16})\n",
    "\n",
    "amplitude = FloatSlider(min=1.0, max=20.0, step=1, value=5.0)\n",
    "wavelength = FloatSlider(min=100, max=1000.0, step=100, value=250)\n",
    "phase = FloatSlider(min=0, max=360, step=10, value=0)\n",
    "function = ToggleButtons(description='trig function', options=['sin', 'cos', 'tan'])\n",
    "\n",
    "x = linspace(0,2000,2001)\n",
    "\n",
    "@interact(A=amplitude, Lambda=wavelength, phi=phase, f=function)\n",
    "def plot(A,Lambda,phi,f):\n",
    "    if f =='sin':\n",
    "        plt.plot(x, A * sin(2*pi*x/Lambda+phi*pi/180))\n",
    "    elif f == 'cos':\n",
    "        plt.plot(x, A * cos(2*pi*x/Lambda+phi*pi/180))\n",
    "    else:\n",
    "        plt.plot(x, A * tan(2*pi*x/Lambda+phi*2*pi/360))\n",
    "    plt.grid(color='gray', alpha=0.3, linewidth=2, linestyle='solid')\n",
    "    plt.xlabel('Position (feet)')\n",
    "    plt.xlim(0.1,2000)\n",
    "    plt.ylabel('Wave Height (feet)')\n",
    "    plt.ylim(-20.1,20.1);\n",
    "    plt.show()"
   ]
  },
  {
   "cell_type": "markdown",
   "metadata": {},
   "source": [
    "### Light Waves"
   ]
  },
  {
   "cell_type": "markdown",
   "metadata": {},
   "source": [
    "So water height is the thing that is changing in a water wave. What is the thing chaning in a light wave? It is the size of electric and magenetic fields as pictured just below. Note that the wavelength of the light wave determines what color we see. Blue light has a wavelength of about 450 nanometers (a nanometer is one billionth of a meter), green light about 550 nanometers, and red light about 640 nanometers. The bigger the amplitude of the light wave, the brighter the light."
   ]
  },
  {
   "cell_type": "code",
   "execution_count": 10,
   "metadata": {},
   "outputs": [
    {
     "data": {
      "text/html": [
       "<img src=\"http://i.imgur.com/uOWvGP6.jpg\" width=\"600\" height=\"600\"/>"
      ],
      "text/plain": [
       "<IPython.core.display.Image object>"
      ]
     },
     "execution_count": 10,
     "metadata": {},
     "output_type": "execute_result"
    }
   ],
   "source": [
    "from IPython.display import Image\n",
    "from IPython.core.display import HTML \n",
    "Image(url= \"http://i.imgur.com/uOWvGP6.jpg\", width=600, height=600)"
   ]
  },
  {
   "cell_type": "markdown",
   "metadata": {},
   "source": [
    "### Wave Interference"
   ]
  },
  {
   "cell_type": "markdown",
   "metadata": {},
   "source": [
    "A special properties of waves is that they can add to each other or subtract from each other when they overlap. See if you can spot this happening in the picture of two overlapping waver waves below."
   ]
  },
  {
   "cell_type": "code",
   "execution_count": 11,
   "metadata": {},
   "outputs": [
    {
     "data": {
      "text/html": [
       "<img src=\"http://i.imgur.com/oFLtlFl.jpg\" width=\"600\" height=\"600\"/>"
      ],
      "text/plain": [
       "<IPython.core.display.Image object>"
      ]
     },
     "execution_count": 11,
     "metadata": {},
     "output_type": "execute_result"
    }
   ],
   "source": [
    "from IPython.display import Image\n",
    "from IPython.core.display import HTML \n",
    "Image(url= \"http://i.imgur.com/oFLtlFl.jpg\", width=600, height=600)"
   ]
  },
  {
   "cell_type": "markdown",
   "metadata": {},
   "source": [
    "The photo on below is the interference pattern that was created on a screen by overlapping green light from two slits."
   ]
  },
  {
   "cell_type": "code",
   "execution_count": 12,
   "metadata": {},
   "outputs": [
    {
     "data": {
      "text/html": [
       "<img src=\"http://i.imgur.com/ftfeB3t.jpg\" width=\"600\" height=\"600\"/>"
      ],
      "text/plain": [
       "<IPython.core.display.Image object>"
      ]
     },
     "execution_count": 12,
     "metadata": {},
     "output_type": "execute_result"
    }
   ],
   "source": [
    "from IPython.display import Image\n",
    "from IPython.core.display import HTML \n",
    "Image(url= \"http://i.imgur.com/ftfeB3t.jpg\", width=600, height=600)"
   ]
  },
  {
   "cell_type": "markdown",
   "metadata": {
    "scrolled": true
   },
   "source": [
    "Now let's add two waves mathematically and see how they add and subtract as we change their properties. Interfering light and sound waves can form all for the paterns that we see in this simulation."
   ]
  },
  {
   "cell_type": "code",
   "execution_count": 13,
   "metadata": {
    "hide_input": true
   },
   "outputs": [
    {
     "data": {
      "application/vnd.jupyter.widget-view+json": {
       "model_id": "31c962a5d921403389ea62ffe948c15a",
       "version_major": 2,
       "version_minor": 0
      },
      "text/plain": [
       "interactive(children=(FloatSlider(value=5.0, description='A1', max=20.0, min=1.0, step=1.0), FloatSlider(value…"
      ]
     },
     "metadata": {},
     "output_type": "display_data"
    }
   ],
   "source": [
    "%matplotlib inline\n",
    "from numpy import *\n",
    "import matplotlib.pyplot as plt\n",
    "from ipywidgets import interact, FloatSlider, ToggleButtons\n",
    "plt.rcParams.update({'font.size': 16})\n",
    "\n",
    "amplitude1 = FloatSlider(min=1.0, max=20.0, step=1, value=5.0)\n",
    "wavelength1 = FloatSlider(min=100, max=1000.0, step=100, value=250)\n",
    "phase1 = FloatSlider(min=0, max=360, step=10, value=0)\n",
    "\n",
    "amplitude2 = FloatSlider(min=1.0, max=20.0, step=1, value=5.0)\n",
    "wavelength2 = FloatSlider(min=100, max=1000.0, step=100, value=250)\n",
    "phase2 = FloatSlider(min=0, max=360, step=10, value=0)\n",
    "\n",
    "x = linspace(0,2000,2001)\n",
    "\n",
    "@interact(A1=amplitude1, lambda1=wavelength1, phi1=phase1, A2=amplitude2, lambda2=wavelength2, phi2=phase2)\n",
    "def plot(A1,lambda1,phi1,A2,lambda2,phi2):\n",
    "    plt.figure(figsize=(12,5))\n",
    "    plt.plot(x, A1 * sin(2*pi*x/lambda1+phi1*pi/180)+20, label='wave 1')\n",
    "    plt.plot(x, A2 * sin(2*pi*x/lambda2+phi2*pi/180), label='wave 2')\n",
    "    plt.plot(x, A1 * sin(2*pi*x/lambda1+phi1*pi/180) +\n",
    "             A2 * sin(2*pi*x/lambda2+phi2*pi/180)-20, label='wave 1 + wave 2')\n",
    "    plt.grid(color='gray', alpha=0.3, linewidth=2, linestyle='solid')\n",
    "    plt.xlabel('Position (feet)')\n",
    "    plt.xlim(0.1,3200)\n",
    "    plt.ylabel('Wave Height (feet)')\n",
    "    plt.ylim(-40.1,40.1)\n",
    "    plt.legend(loc='right')"
   ]
  },
  {
   "cell_type": "markdown",
   "metadata": {},
   "source": [
    "### Bonus Video"
   ]
  },
  {
   "cell_type": "markdown",
   "metadata": {},
   "source": [
    "Finally, you may like to take a look at this Youtube video. It contains demonstrations of wave interference and has some funny interviews with people about light."
   ]
  },
  {
   "cell_type": "code",
   "execution_count": 14,
   "metadata": {},
   "outputs": [
    {
     "data": {
      "image/jpeg": "[encoded data removed]",
      "text/html": [
       "\n",
       "        <iframe\n",
       "            width=\"400\"\n",
       "            height=\"300\"\n",
       "            src=\"https://www.youtube.com/embed/Iuv6hY6zsd0\"\n",
       "            frameborder=\"0\"\n",
       "            allowfullscreen\n",
       "        ></iframe>\n",
       "        "
      ],
      "text/plain": [
       "<IPython.lib.display.YouTubeVideo at 0x9099470>"
      ]
     },
     "metadata": {},
     "output_type": "display_data"
    }
   ],
   "source": [
    "from IPython.display import HTML, display, YouTubeVideo\n",
    "vid = YouTubeVideo(\"Iuv6hY6zsd0\")\n",
    "display(vid)"
   ]
  },
  {
   "cell_type": "code",
   "execution_count": null,
   "metadata": {},
   "outputs": [],
   "source": []
  }
 ],
 "metadata": {
  "hide_input": false,
  "kernelspec": {
   "display_name": "Python 3",
   "language": "python",
   "name": "python3"
  },
  "language_info": {
   "codemirror_mode": {
    "name": "ipython",
    "version": 3
   },
   "file_extension": ".py",
   "mimetype": "text/x-python",
   "name": "python",
   "nbconvert_exporter": "python",
   "pygments_lexer": "ipython3",
   "version": "3.6.8"
  },
  "varInspector": {
   "cols": {
    "lenName": 16,
    "lenType": 16,
    "lenVar": 40
   },
   "kernels_config": {
    "python": {
     "delete_cmd_postfix": "",
     "delete_cmd_prefix": "del ",
     "library": "var_list.py",
     "varRefreshCmd": "print(var_dic_list())"
    },
    "r": {
     "delete_cmd_postfix": ") ",
     "delete_cmd_prefix": "rm(",
     "library": "var_list.r",
     "varRefreshCmd": "cat(var_dic_list()) "
    }
   },
   "types_to_exclude": [
    "module",
    "function",
    "builtin_function_or_method",
    "instance",
    "_Feature"
   ],
   "window_display": false
  }
 },
 "nbformat": 4,
 "nbformat_minor": 1
}
