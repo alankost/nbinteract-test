{
 "cells": [
  {
   "cell_type": "code",
   "execution_count": 8,
   "metadata": {},
   "outputs": [
    {
     "name": "stdout",
     "output_type": "stream",
     "text": [
      "Introductory Text\n"
     ]
    },
    {
     "data": {
      "application/vnd.jupyter.widget-view+json": {
       "model_id": "882c1352c2a541519a226fbfcb09c5c3",
       "version_major": 2,
       "version_minor": 0
      },
      "text/plain": [
       "interactive(children=(FloatSlider(value=1.0, description='d', max=2.0, min=0.1), Output(layout=Layout(height='…"
      ]
     },
     "metadata": {},
     "output_type": "display_data"
    }
   ],
   "source": [
    "# nbi:hide_in\n",
    "%matplotlib inline\n",
    "import numpy as np\n",
    "import matplotlib.pyplot as plt\n",
    "# import matplotlib as mpl\n",
    "from ipywidgets import interact, interactive, FloatSlider, ToggleButtons\n",
    "import time\n",
    "plt.rcParams.update({'font.size': 16})\n",
    "\n",
    "\n",
    "print('Introductory Text')\n",
    "\n",
    "#vacuum wavelength in microns\n",
    "wavelength=1.55\n",
    "#refractive index of core\n",
    "n1=3.5\n",
    "#refractive inex of cladding\n",
    "n0=3.0\n",
    "gw_slider = FloatSlider(description='d', min=0.6, max=1.4, step=0.02, value=1.0);\n",
    "\n",
    "amplitude_slider = FloatSlider(min=0.1, max=1.0, step=0.1, value=0.2)\n",
    "\n",
    "\n",
    "\n",
    "def plot(d):\n",
    "    fig, ax = plt.subplots(figsize=(6, 5), subplot_kw={'axisbelow':True, 'xlabel':'Position (micronz)', 'ylabel':'Normalized (Ey)'})\n",
    "    ax.grid(color='gray', alpha=0.3, linewidth=2, linestyle='solid')  \n",
    "    a=d/2\n",
    "    #value of normalized frequency\n",
    "#    global V\n",
    "    V=(2*np.pi*a/wavelength)*(n1**2.0-n0**2.0)**0.5\n",
    "    Ka = np.linspace(0, 8, 200)\n",
    "\n",
    "    #Finding the 1st Even Mode\n",
    "    Ka_arr = np.arange(100,150)/100.0\n",
    "    Diff_arr = (n0**2/n1**2)*Ka_arr*np.tan(Ka_arr)-(V**2-Ka_arr**2)**0.5\n",
    "    Diff_arr=np.absolute(Diff_arr)\n",
    "    Ka0 = np.argmin(Diff_arr)/100.0+1.0\n",
    "    Ga0 = (n0**2/n1**2)*Ka_arr[np.argmin(Diff_arr)]*np.tan(Ka_arr[np.argmin(Diff_arr)])\n",
    "    Beta0 = ((n1*(2*np.pi/wavelength))**2-(Ka0/a)**2)**0.5\n",
    "    effn0 = Beta0*wavelength/2/np.pi\n",
    "#    print('Effective Index = %.2f' % (effn0))\n",
    "#    print('Confinement Factor = %.2f' % (1-(n1**2-effn0**2)/(n1**2-n0**2)))  \n",
    "    x0=np.linspace(-2,-a,151) \n",
    "    x1=np.linspace(-a,a,101) \n",
    "    x2=np.linspace(a,2,151)\n",
    "    ax.set_xlim(-2, 2)\n",
    "    ax.set_ylim(0, 1.1)\n",
    "    x=np.concatenate([x0,x1,x2])\n",
    "    y=np.concatenate([np.cos(Ka0)*np.exp((a+x0)*(Ga0/a)),np.cos(Ka0*x1/a),np.cos(Ka0)*np.exp((a-x2)*(Ga0/a))])\n",
    "    ax.plot(x, y,color='blue') \n",
    "    ax.vlines([-a,a],0, 1.0, colors='red')\n",
    "\n",
    "interactive_plot = interactive(plot, d=(0.1,2,.1))\n",
    "output = interactive_plot.children[-1]\n",
    "output.layout.height = '450px'\n",
    "interactive_plot"
   ]
  },
  {
   "cell_type": "code",
   "execution_count": 28,
   "metadata": {},
   "outputs": [],
   "source": [
    "import pkg_resources\n",
    "pkg_resources.require(\"bokeh==1.0.4\")\n",
    "import bokeh\n",
    "import bokeh as bk"
   ]
  },
  {
   "cell_type": "code",
   "execution_count": 27,
   "metadata": {},
   "outputs": [
    {
     "ename": "NameError",
     "evalue": "name 'fig' is not defined",
     "output_type": "error",
     "traceback": [
      "\u001b[1;31m---------------------------------------------------------------------------\u001b[0m",
      "\u001b[1;31mNameError\u001b[0m                                 Traceback (most recent call last)",
      "\u001b[1;32m<ipython-input-27-e684a019ecd9>\u001b[0m in \u001b[0;36m<module>\u001b[1;34m\u001b[0m\n\u001b[1;32m----> 1\u001b[1;33m \u001b[0mfig\u001b[0m\u001b[1;33m=\u001b[0m\u001b[0mfig\u001b[0m\u001b[1;33m(\u001b[0m\u001b[1;33m)\u001b[0m\u001b[1;33m\u001b[0m\u001b[1;33m\u001b[0m\u001b[0m\n\u001b[0m",
      "\u001b[1;31mNameError\u001b[0m: name 'fig' is not defined"
     ]
    }
   ],
   "source": []
  },
  {
   "cell_type": "code",
   "execution_count": null,
   "metadata": {},
   "outputs": [],
   "source": []
  }
 ],
 "metadata": {
  "hide_input": false,
  "kernelspec": {
   "display_name": "Python 3",
   "language": "python",
   "name": "python3"
  },
  "language_info": {
   "codemirror_mode": {
    "name": "ipython",
    "version": 3
   },
   "file_extension": ".py",
   "mimetype": "text/x-python",
   "name": "python",
   "nbconvert_exporter": "python",
   "pygments_lexer": "ipython3",
   "version": "3.6.8"
  },
  "varInspector": {
   "cols": {
    "lenName": 16,
    "lenType": 16,
    "lenVar": 40
   },
   "kernels_config": {
    "python": {
     "delete_cmd_postfix": "",
     "delete_cmd_prefix": "del ",
     "library": "var_list.py",
     "varRefreshCmd": "print(var_dic_list())"
    },
    "r": {
     "delete_cmd_postfix": ") ",
     "delete_cmd_prefix": "rm(",
     "library": "var_list.r",
     "varRefreshCmd": "cat(var_dic_list()) "
    }
   },
   "types_to_exclude": [
    "module",
    "function",
    "builtin_function_or_method",
    "instance",
    "_Feature"
   ],
   "window_display": false
  }
 },
 "nbformat": 4,
 "nbformat_minor": 1
}
