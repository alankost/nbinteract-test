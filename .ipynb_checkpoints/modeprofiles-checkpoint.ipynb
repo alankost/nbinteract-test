{
 "cells": [
  {
   "cell_type": "code",
   "execution_count": 2,
   "metadata": {},
   "outputs": [],
   "source": [
    "# nbi:hide_in\n",
    "%matplotlib inline\n",
    "import warnings\n",
    "warnings.filterwarnings('ignore')\n",
    "import numpy as np\n",
    "import matplotlib.pyplot as plt\n",
    "from ipywidgets import interact, FloatSlider, ToggleButtons\n",
    "import time\n",
    "plt.rcParams.update({'font.size': 16})"
   ]
  },
  {
   "cell_type": "code",
   "execution_count": 12,
   "metadata": {},
   "outputs": [
    {
     "data": {
      "application/vnd.jupyter.widget-view+json": {
       "model_id": "eb915620c6664d8da65d31be7881debc",
       "version_major": 2,
       "version_minor": 0
      },
      "text/plain": [
       "interactive(children=(FloatSlider(value=1.0, description='guide_width', max=1.4, min=0.6, step=0.2), Output())…"
      ]
     },
     "metadata": {},
     "output_type": "display_data"
    }
   ],
   "source": [
    "# nbi:hide_in\n",
    "#core half thinkness in microns\n",
    "gw_slider = FloatSlider(min=0.6, max=1.4, step=0.2, value=1.0)\n",
    "\n",
    "\n",
    "#vacuum wavelength in microns\n",
    "wavelength=1.55\n",
    "#refractive index of core\n",
    "n1=3.5\n",
    "#refractive inex of cladding\n",
    "n0=3.0\n",
    "\n",
    "\n",
    "@interact(guide_width=gw_slider)\n",
    "def plot(guide_width):\n",
    "    a=guide_width/2\n",
    "    #value of normalized frequency\n",
    "    global V\n",
    "    V=(2*np.pi*a/wavelength)*(n1**2.0-n0**2.0)**0.5\n",
    "    Ka = np.linspace(0, 8, 200)\n",
    "    \"\"\"\n",
    "    Equation for the Even modes\n",
    "    plt.plot(Ka, (n0**2/n1**2)*Ka*np.tan(Ka), 'p')\n",
    "\n",
    "    #Equation for the Odd modes\n",
    "    plt.plot(Ka, -(n0**2/n1**2)*Ka*(1/np.tan(Ka)), 'p')\n",
    "\n",
    "    #Equation for the V circle\n",
    "    plt.plot(Ka, (V**2-Ka**2)**0.5, 'y')\n",
    "\n",
    "    plt.axis([0, 8, 0, 5])\n",
    "    plt.yticks([0,1,2,3,4,5,6,7,8])\n",
    "    plt.xlabel('Kappa x a')\n",
    "    plt.ylabel('Gamma x a');\n",
    "    plt.title('blue dots = even modes \\n orange dots = odd modes', fontsize=14)\n",
    "    \"\"\"\n",
    "    #Finding the 1st Even Mode\n",
    "    Ka_arr = np.arange(100,150)/100.0\n",
    "    Diff_arr = (n0**2/n1**2)*Ka_arr*np.tan(Ka_arr)-(V**2-Ka_arr**2)**0.5\n",
    "    Diff_arr=np.absolute(Diff_arr)\n",
    "    Ka0 = np.argmin(Diff_arr)/100.0+1.0\n",
    "    Ga0 = (n0**2/n1**2)*Ka_arr[np.argmin(Diff_arr)]*np.tan(Ka_arr[np.argmin(Diff_arr)])\n",
    "#    print ('Kappa x a - Even Mode 1 =', Ka0)\n",
    "#    print ('Gamma x a - Even Mode 1 =', Ga0)\n",
    "    #Propagation Constant for the 1st Even Mode\n",
    "    Beta0 = ((n1*(2*np.pi/wavelength))**2-(Ka0/a)**2)**0.5\n",
    "    effn0 = Beta0*wavelength/2/np.pi\n",
    "#    print ('Beta - Even Mode 1 =', Beta0, 'micron^-1')\n",
    "    print('Effective Index = ', effn0)\n",
    "    \n",
    "    x0=np.linspace(-2,-a,151) \n",
    "    x1=np.linspace(-a,a,101) \n",
    "    x2=np.linspace(a,2,151) \n",
    "    plt.plot(x0, np.cos(Ka0)*np.exp((a+x0)*(Ga0/a))) \n",
    "    plt.plot(x1, np.cos(Ka0*x1/a)) \n",
    "    plt.plot(x2, np.cos(Ka0)*np.exp((a-x2)*(Ga0/a))) \n",
    "    plt.xlabel('Kappa x a')\n",
    "    plt.ylabel('Normalized Ey(x)');"
   ]
  },
  {
   "cell_type": "code",
   "execution_count": 9,
   "metadata": {},
   "outputs": [
    {
     "name": "stdout",
     "output_type": "stream",
     "text": [
      "Kappa x a - Even Mode 1 = 1.3\n",
      "Gamma x a - Even Mode 1 = 3.4403753992837025\n",
      "Kappa x a - Even Mode 2 = 3.51\n",
      "Gamma x a - Even Mode 2 = 0.9954899768495834\n",
      "Kappa x a - Odd Mode 1 = 2.5300000000000002\n",
      "Gamma x a - Odd Mode 1 = 2.6505009461966345\n"
     ]
    }
   ],
   "source": [
    "#Finding the 1st Even Mode\n",
    "Ka_arr = np.arange(100,150)/100.0\n",
    "Diff_arr = (n0**2/n1**2)*Ka_arr*np.tan(Ka_arr)-(V**2-Ka_arr**2)**0.5\n",
    "Diff_arr=np.absolute(Diff_arr)\n",
    "Ka0 = np.argmin(Diff_arr)/100.0+1.0\n",
    "Ga0 = (n0**2/n1**2)*Ka_arr[np.argmin(Diff_arr)]*np.tan(Ka_arr[np.argmin(Diff_arr)])\n",
    "print ('Kappa x a - Even Mode 1 =', Ka0)\n",
    "print ('Gamma x a - Even Mode 1 =', Ga0)\n",
    "\n",
    "#Finding the 2nd Even mode\n",
    "Ka_arr = np.arange(300,360)/100.0\n",
    "Diff_arr = (n0**2/n1**2)*Ka_arr*np.tan(Ka_arr)-(V**2-Ka_arr**2)**0.5\n",
    "Diff_arr=np.absolute(Diff_arr)\n",
    "Ka2 = np.argmin(Diff_arr)/100.0+3.0\n",
    "Ga2 = (n0**2/n1**2)*Ka_arr[np.argmin(Diff_arr)]*np.tan(Ka_arr[np.argmin(Diff_arr)])\n",
    "print ('Kappa x a - Even Mode 2 =', Ka2)\n",
    "print ('Gamma x a - Even Mode 2 =', Ga2)\n",
    "\n",
    "#Finding the 1st Odd mode\n",
    "Ka_arr = np.arange(200,280)/100.0\n",
    "Diff_arr = -(n0**2/n1**2)*Ka_arr*(1/np.tan(Ka_arr))-(V**2-Ka_arr**2)**0.5\n",
    "Diff_arr=np.absolute(Diff_arr)\n",
    "Ka1= np.argmin(Diff_arr)/100.0+2.0\n",
    "Ga1= -(n0**2/n1**2)*Ka_arr[np.argmin(Diff_arr)]*(1/np.tan(Ka_arr[np.argmin(Diff_arr)]))\n",
    "print ('Kappa x a - Odd Mode 1 =', Ka1)\n",
    "print ('Gamma x a - Odd Mode 1 =', Ga1)"
   ]
  },
  {
   "cell_type": "markdown",
   "metadata": {},
   "source": [
    "# Calculate the Propagation Constants"
   ]
  },
  {
   "cell_type": "code",
   "execution_count": 10,
   "metadata": {},
   "outputs": [
    {
     "name": "stdout",
     "output_type": "stream",
     "text": [
      "Beta - Even Mode 1 = 13.94757115654403 micron^-1\n",
      "Beta - Even Mode 2 = 12.329409603337014 micron^-1\n",
      "Beta - Odd Mode 1 = 13.25485349473388 micron^-1\n"
     ]
    }
   ],
   "source": [
    "#Propagation Constant for the 1st Even Mode\n",
    "Beta0 = ((n1*(2*np.pi/wavelength))**2-(Ka0/a)**2)**0.5\n",
    "print ('Beta - Even Mode 1 =', Beta0, 'micron^-1')\n",
    "\n",
    "\n",
    "#Proparagtion Constant for the 2nd Even Mode\n",
    "Beta1 = ((n1*(2*np.pi/wavelength))**2-(Ka2/a)**2)**0.5\n",
    "print ('Beta - Even Mode 2 =', Beta1, 'micron^-1')\n",
    "\n",
    "\n",
    "#Propagation Constant for the 1st Odd Mode\n",
    "Beta2 = ((n1*(2*np.pi/wavelength))**2-(Ka1/a)**2)**0.5\n",
    "print ('Beta - Odd Mode 1 =', Beta2, 'micron^-1')"
   ]
  },
  {
   "cell_type": "markdown",
   "metadata": {},
   "source": [
    "## Plot Ey(x) Profile for the 1st Even Mode"
   ]
  },
  {
   "cell_type": "code",
   "execution_count": 11,
   "metadata": {},
   "outputs": [
    {
     "data": {
      "image/png": "[encoded data removed]",
      "text/plain": [
       "<Figure size 432x288 with 1 Axes>"
      ]
     },
     "metadata": {
      "needs_background": "light"
     },
     "output_type": "display_data"
    }
   ],
   "source": [
    "x0=np.linspace(-2,-.5,151) \n",
    "x1=np.linspace(-.5,.5,101) \n",
    "x2=np.linspace(.5,2,151) \n",
    "plt.plot(x0, np.cos(Ka0)*np.exp((.5+x0)*(Ga0/a))) \n",
    "plt.plot(x1, np.cos(Ka0*x1/a)) \n",
    "plt.plot(x2, np.cos(Ka0)*np.exp((.5-x2)*(Ga0/a))) \n",
    "plt.xlabel('Kappa x a')\n",
    "plt.ylabel('Normalized Ey(x)');"
   ]
  },
  {
   "cell_type": "markdown",
   "metadata": {},
   "source": [
    "## Plot Ey(x) Profile for the 2nd Even Mode"
   ]
  },
  {
   "cell_type": "code",
   "execution_count": 12,
   "metadata": {},
   "outputs": [
    {
     "data": {
      "image/png": "[encoded data removed]",
      "text/plain": [
       "<Figure size 432x288 with 1 Axes>"
      ]
     },
     "metadata": {
      "needs_background": "light"
     },
     "output_type": "display_data"
    }
   ],
   "source": [
    "x0=np.linspace(-3,-.5,251)\n",
    "x1=np.linspace(-.5,.5,101)\n",
    "x2=np.linspace(.5,3,251)\n",
    "plt.plot(x0, np.cos(Ka2)*np.exp((.5+x0)*(Ga2/a)))\n",
    "plt.plot(x1, np.cos(Ka2*x1/a))\n",
    "plt.plot(x2, np.cos(Ka2)*np.exp((.5-x2)*(Ga2/a)))\n",
    "plt.xlabel('Kappa x a');\n",
    "plt.ylabel('Normalized Ey(x)');"
   ]
  },
  {
   "cell_type": "markdown",
   "metadata": {},
   "source": [
    "# Plot Ey(x) Profile for the Odd Mode"
   ]
  },
  {
   "cell_type": "code",
   "execution_count": 9,
   "metadata": {},
   "outputs": [
    {
     "data": {
      "image/png": "[encoded data removed]",
      "text/plain": [
       "<Figure size 432x288 with 1 Axes>"
      ]
     },
     "metadata": {
      "needs_background": "light"
     },
     "output_type": "display_data"
    }
   ],
   "source": [
    "x0=np.linspace(-2,-.5,151)\n",
    "x1=np.linspace(-.5,.5,101)\n",
    "x2=np.linspace(.5,2,151)\n",
    "plt.plot(x0, -np.sin(Ka1)*np.exp((.5+x0)*(Ga1/a)))\n",
    "plt.plot(x1, np.sin(Ka1*x1/a))\n",
    "plt.plot(x2, np.sin(Ka1)*np.exp((.5-x2)*(Ga1/a)))\n",
    "plt.xlabel('Kappa x a')\n",
    "plt.ylabel('Normalized Ey(x)');"
   ]
  }
 ],
 "metadata": {
  "hide_input": false,
  "kernelspec": {
   "display_name": "Python 3",
   "language": "python",
   "name": "python3"
  },
  "language_info": {
   "codemirror_mode": {
    "name": "ipython",
    "version": 3
   },
   "file_extension": ".py",
   "mimetype": "text/x-python",
   "name": "python",
   "nbconvert_exporter": "python",
   "pygments_lexer": "ipython3",
   "version": "3.6.8"
  },
  "varInspector": {
   "cols": {
    "lenName": 16,
    "lenType": 16,
    "lenVar": 40
   },
   "kernels_config": {
    "python": {
     "delete_cmd_postfix": "",
     "delete_cmd_prefix": "del ",
     "library": "var_list.py",
     "varRefreshCmd": "print(var_dic_list())"
    },
    "r": {
     "delete_cmd_postfix": ") ",
     "delete_cmd_prefix": "rm(",
     "library": "var_list.r",
     "varRefreshCmd": "cat(var_dic_list()) "
    }
   },
   "types_to_exclude": [
    "module",
    "function",
    "builtin_function_or_method",
    "instance",
    "_Feature"
   ],
   "window_display": false
  }
 },
 "nbformat": 4,
 "nbformat_minor": 1
}
