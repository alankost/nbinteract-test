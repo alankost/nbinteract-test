{
 "cells": [
  {
   "cell_type": "code",
   "execution_count": 1,
   "metadata": {},
   "outputs": [
    {
     "data": {
      "application/vnd.jupyter.widget-view+json": {
       "model_id": "c991ff8c7cf34019a9867f5329843563",
       "version_major": 2,
       "version_minor": 0
      },
      "text/plain": [
       "interactive(children=(FloatSlider(value=0.2, description='amplitude', max=1.0, min=0.1), ToggleButtons(descrip…"
      ]
     },
     "metadata": {},
     "output_type": "display_data"
    }
   ],
   "source": [
    "# nbi:hide_in\n",
    "%matplotlib inline\n",
    "import numpy as np\n",
    "import matplotlib.pyplot as plt\n",
    "# import matplotlib as mpl\n",
    "from ipywidgets import interact, FloatSlider, ToggleButtons\n",
    "import time\n",
    "plt.rcParams.update({'font.size': 16})\n",
    "\n",
    "amplitude_slider = FloatSlider(min=0.1, max=1.0, step=0.1, value=0.2)\n",
    "func_buttons = ToggleButtons(description='trig function', options=['sin', 'cos', 'tan'])\n",
    "\n",
    "x = np.linspace(-10,10,2000)\n",
    "\n",
    "@interact(amplitude=amplitude_slider, func=func_buttons)\n",
    "def plot(amplitude, func):\n",
    "    fig, ax = plt.subplots(figsize=(6, 5), subplot_kw={'axisbelow':True, 'xlabel':'Time', 'ylabel':'Signal'})\n",
    "    ax.grid(color='gray', alpha=0.3, linewidth=2, linestyle='solid')\n",
    "    if func =='sin':\n",
    "        ax.plot(x, amplitude * np.sin(x))\n",
    "    elif func == 'cos':\n",
    "        ax.plot(x, amplitude * np.cos(x))\n",
    "    else:\n",
    "        ax.plot(x, amplitude * np.tan(x))\n",
    "    \n",
    "    ax.set_xlim(-10, 10)\n",
    "    ax.set_ylim(-1.1, 1.1)"
   ]
  }
 ],
 "metadata": {
  "hide_input": false,
  "kernelspec": {
   "display_name": "Python 3",
   "language": "python",
   "name": "python3"
  },
  "language_info": {
   "codemirror_mode": {
    "name": "ipython",
    "version": 3
   },
   "file_extension": ".py",
   "mimetype": "text/x-python",
   "name": "python",
   "nbconvert_exporter": "python",
   "pygments_lexer": "ipython3",
   "version": "3.6.8"
  },
  "varInspector": {
   "cols": {
    "lenName": 16,
    "lenType": 16,
    "lenVar": 40
   },
   "kernels_config": {
    "python": {
     "delete_cmd_postfix": "",
     "delete_cmd_prefix": "del ",
     "library": "var_list.py",
     "varRefreshCmd": "print(var_dic_list())"
    },
    "r": {
     "delete_cmd_postfix": ") ",
     "delete_cmd_prefix": "rm(",
     "library": "var_list.r",
     "varRefreshCmd": "cat(var_dic_list()) "
    }
   },
   "types_to_exclude": [
    "module",
    "function",
    "builtin_function_or_method",
    "instance",
    "_Feature"
   ],
   "window_display": false
  }
 },
 "nbformat": 4,
 "nbformat_minor": 1
}
