{
 "cells": [
  {
   "cell_type": "code",
   "execution_count": 1,
   "metadata": {},
   "outputs": [],
   "source": [
    "# nbi:hide_in\n",
    "%matplotlib inline\n",
    "import warnings\n",
    "warnings.filterwarnings('ignore')\n",
    "import numpy as np\n",
    "import matplotlib.pyplot as plt\n",
    "from ipywidgets import interact, FloatSlider, ToggleButtons, interactive, HBox, VBox, Label\n",
    "import time\n",
    "plt.rcParams.update({'font.size': 16})"
   ]
  },
  {
   "cell_type": "code",
   "execution_count": 2,
   "metadata": {},
   "outputs": [
    {
     "name": "stdout",
     "output_type": "stream",
     "text": [
      "Introductory Text\n"
     ]
    },
    {
     "data": {
      "application/vnd.jupyter.widget-view+json": {
       "model_id": "f270fb86ae9342508bfc61ec37cd7bee",
       "version_major": 2,
       "version_minor": 0
      },
      "text/plain": [
       "VBox(children=(Label(value='d is the waveguide width in micron'), interactive(children=(FloatSlider(value=1.0,…"
      ]
     },
     "metadata": {},
     "output_type": "display_data"
    }
   ],
   "source": [
    "# nbi:hide_in\n",
    "#core half thinkness in microns\n",
    "gw_slider = FloatSlider(description='d', min=0.6, max=1.4, step=0.2, value=1.0);\n",
    "\n",
    "#vacuum wavelength in microns\n",
    "wavelength=1.55\n",
    "#refractive index of core\n",
    "n1=3.5\n",
    "#refractive inex of cladding\n",
    "n0=3.0\n",
    "\n",
    "print('Introductory Text')\n",
    "\n",
    "# @interact(d=gw_slider)\n",
    "def plot(d):\n",
    "    a=d/2\n",
    "    #value of normalized frequency\n",
    "    global V\n",
    "    V=(2*np.pi*a/wavelength)*(n1**2.0-n0**2.0)**0.5\n",
    "    Ka = np.linspace(0, 8, 200)\n",
    "\n",
    "    #Finding the 1st Even Mode\n",
    "    Ka_arr = np.arange(100,150)/100.0\n",
    "    Diff_arr = (n0**2/n1**2)*Ka_arr*np.tan(Ka_arr)-(V**2-Ka_arr**2)**0.5\n",
    "    Diff_arr=np.absolute(Diff_arr)\n",
    "    Ka0 = np.argmin(Diff_arr)/100.0+1.0\n",
    "    Ga0 = (n0**2/n1**2)*Ka_arr[np.argmin(Diff_arr)]*np.tan(Ka_arr[np.argmin(Diff_arr)])\n",
    "#    print ('Kappa x a - Even Mode 1 =', Ka0)\n",
    "#    print ('Gamma x a - Even Mode 1 =', Ga0)\n",
    "    #Propagation Constant for the 1st Even Mode\n",
    "    Beta0 = ((n1*(2*np.pi/wavelength))**2-(Ka0/a)**2)**0.5\n",
    "    effn0 = Beta0*wavelength/2/np.pi\n",
    "#    print ('Beta - Even Mode 1 =', Beta0, 'micron^-1')\n",
    "#    print('Effective Index = %.2f' % (effn0))\n",
    "#    print('Confinement Factor = %.2f' % (1-(n1**2-effn0**2)/(n1**2-n0**2)))\n",
    "    \n",
    "    x0=np.linspace(-2,-a,151) \n",
    "    x1=np.linspace(-a,a,101) \n",
    "    x2=np.linspace(a,2,151)\n",
    "    plt.plot(x0, np.cos(Ka0)*np.exp((a+x0)*(Ga0/a)),color='blue') \n",
    "    plt.plot(x1, np.cos(Ka0*x1/a),color='blue') \n",
    "    plt.plot(x2, np.cos(Ka0)*np.exp((a-x2)*(Ga0/a)),color='blue')\n",
    "    plt.xlabel('Position (micron)')\n",
    "    plt.ylabel('Normalized Ey(x)')\n",
    "    plt.vlines([-a,a],0, 1.0, colors='red')\n",
    "\n",
    "interactive_plot = interactive(plot, d=gw_slider)\n",
    "output = interactive_plot.children[-1]\n",
    "output.layout.height = '350px'\n",
    "VBox([Label('d is the waveguide width in micron'), interactive_plot])"
   ]
  },
  {
   "cell_type": "code",
   "execution_count": null,
   "metadata": {},
   "outputs": [],
   "source": []
  }
 ],
 "metadata": {
  "hide_input": false,
  "kernelspec": {
   "display_name": "Python 3",
   "language": "python",
   "name": "python3"
  },
  "language_info": {
   "codemirror_mode": {
    "name": "ipython",
    "version": 3
   },
   "file_extension": ".py",
   "mimetype": "text/x-python",
   "name": "python",
   "nbconvert_exporter": "python",
   "pygments_lexer": "ipython3",
   "version": "3.6.8"
  },
  "varInspector": {
   "cols": {
    "lenName": 16,
    "lenType": 16,
    "lenVar": 40
   },
   "kernels_config": {
    "python": {
     "delete_cmd_postfix": "",
     "delete_cmd_prefix": "del ",
     "library": "var_list.py",
     "varRefreshCmd": "print(var_dic_list())"
    },
    "r": {
     "delete_cmd_postfix": ") ",
     "delete_cmd_prefix": "rm(",
     "library": "var_list.r",
     "varRefreshCmd": "cat(var_dic_list()) "
    }
   },
   "types_to_exclude": [
    "module",
    "function",
    "builtin_function_or_method",
    "instance",
    "_Feature"
   ],
   "window_display": false
  }
 },
 "nbformat": 4,
 "nbformat_minor": 1
}
